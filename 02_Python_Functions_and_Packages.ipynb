{
  "nbformat": 4,
  "nbformat_minor": 0,
  "metadata": {
    "colab": {
      "name": "02_Python: Functions and Packages.ipynb",
      "provenance": [],
      "collapsed_sections": [],
      "authorship_tag": "ABX9TyMBqG7CQrajaB+8o6Jyn1Ue",
      "include_colab_link": true
    },
    "kernelspec": {
      "name": "python3",
      "display_name": "Python 3"
    }
  },
  "cells": [
    {
      "cell_type": "markdown",
      "metadata": {
        "id": "view-in-github",
        "colab_type": "text"
      },
      "source": [
        "<a href=\"https://colab.research.google.com/github/freefunction/Python_datascience/blob/master/02_Python_Functions_and_Packages.ipynb\" target=\"_parent\"><img src=\"https://colab.research.google.com/assets/colab-badge.svg\" alt=\"Open In Colab\"/></a>"
      ]
    },
    {
      "cell_type": "code",
      "metadata": {
        "id": "AdKjOFiuY5o5",
        "outputId": "433d2c56-53f2-4a58-e634-26df8a21ce4b",
        "colab": {
          "base_uri": "https://localhost:8080/",
          "height": 302
        }
      },
      "source": [
        "##Built in functions \n",
        "\n",
        "#create variables \n",
        "v1 = [1, 0.33, False]\n",
        "v2 = \"python\"\n",
        "v3 = 3.14\n",
        "\n",
        "#Print out the type of variable \n",
        "print(type(v1))\n",
        "print(type(v2))\n",
        "\n",
        "#Help function \n",
        "help(print)\n",
        "\n",
        "#Print out the lenght of the list \n",
        "print(len(v1))\n",
        "\n",
        "#function with mutiple argument\n",
        "\n",
        "print(round(v3,1))\n",
        "#print(round(v3))\n"
      ],
      "execution_count": null,
      "outputs": [
        {
          "output_type": "stream",
          "text": [
            "<class 'list'>\n",
            "<class 'str'>\n",
            "Help on built-in function print in module builtins:\n",
            "\n",
            "print(...)\n",
            "    print(value, ..., sep=' ', end='\\n', file=sys.stdout, flush=False)\n",
            "    \n",
            "    Prints the values to a stream, or to sys.stdout by default.\n",
            "    Optional keyword arguments:\n",
            "    file:  a file-like object (stream); defaults to the current sys.stdout.\n",
            "    sep:   string inserted between values, default a space.\n",
            "    end:   string appended after the last value, default a newline.\n",
            "    flush: whether to forcibly flush the stream.\n",
            "\n",
            "3\n",
            "3.1\n",
            "3\n"
          ],
          "name": "stdout"
        }
      ]
    },
    {
      "cell_type": "code",
      "metadata": {
        "id": "AlPzXnwGdAWZ",
        "outputId": "261ed3a5-2ff1-4385-ab48-3bf784df3547",
        "colab": {
          "base_uri": "https://localhost:8080/",
          "height": 269
        }
      },
      "source": [
        "## Methods : Functions that belong to objects\n",
        "\n",
        "# Methods for list \n",
        "\n",
        "print(v1.index(0.3))\n",
        "help(list.index)\n",
        "#Methods for string\n",
        "\n",
        "print(v2.upper())\n",
        "help(str.upper)"
      ],
      "execution_count": null,
      "outputs": [
        {
          "output_type": "stream",
          "text": [
            "1\n",
            "Help on method_descriptor:\n",
            "\n",
            "index(...)\n",
            "    L.index(value, [start, [stop]]) -> integer -- return first index of value.\n",
            "    Raises ValueError if the value is not present.\n",
            "\n",
            "PYTHON\n",
            "Help on method_descriptor:\n",
            "\n",
            "upper(...)\n",
            "    S.upper() -> str\n",
            "    \n",
            "    Return a copy of S converted to uppercase.\n",
            "\n"
          ],
          "name": "stdout"
        }
      ]
    },
    {
      "cell_type": "code",
      "metadata": {
        "id": "e2OdlSZxjOFB",
        "outputId": "63532cf3-1b55-49aa-cf23-2df91415a980",
        "colab": {
          "base_uri": "https://localhost:8080/",
          "height": 34
        }
      },
      "source": [
        "#Create your own function \n",
        "\n",
        "def my_function(a, b):\n",
        "  print(a * b)\n",
        "\n",
        "#calling a function \n",
        "\n",
        "my_function(2,3)"
      ],
      "execution_count": null,
      "outputs": [
        {
          "output_type": "stream",
          "text": [
            "6\n"
          ],
          "name": "stdout"
        }
      ]
    },
    {
      "cell_type": "code",
      "metadata": {
        "id": "c7omYmR8e_5z",
        "outputId": "063e0b35-a6a8-4407-9dd8-e3508ba9b4df",
        "colab": {
          "base_uri": "https://localhost:8080/",
          "height": 50
        }
      },
      "source": [
        "#Packages\n",
        "\n",
        "#array([12, 4, 5])\n",
        "\n",
        "import math\n",
        "\n",
        "print(math.pi)\n",
        "\n",
        "import numpy as np\n",
        "print(np.array([12,4,5]))\n",
        "\n"
      ],
      "execution_count": null,
      "outputs": [
        {
          "output_type": "stream",
          "text": [
            "3.141592653589793\n",
            "[12  4  5]\n"
          ],
          "name": "stdout"
        }
      ]
    }
  ]
}