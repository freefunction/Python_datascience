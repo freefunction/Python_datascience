{
  "nbformat": 4,
  "nbformat_minor": 0,
  "metadata": {
    "colab": {
      "name": "04_Python: Pandas Part 1.ipynb",
      "provenance": [],
      "authorship_tag": "ABX9TyMKUtPD1wkzrjN3ELBXrSeF",
      "include_colab_link": true
    },
    "kernelspec": {
      "name": "python3",
      "display_name": "Python 3"
    }
  },
  "cells": [
    {
      "cell_type": "markdown",
      "metadata": {
        "id": "view-in-github",
        "colab_type": "text"
      },
      "source": [
        "<a href=\"https://colab.research.google.com/github/freefunction/Python_datascience/blob/master/04_Python_Pandas_Part_1.ipynb\" target=\"_parent\"><img src=\"https://colab.research.google.com/assets/colab-badge.svg\" alt=\"Open In Colab\"/></a>"
      ]
    },
    {
      "cell_type": "code",
      "metadata": {
        "id": "SzbdfRIJGKHG"
      },
      "source": [
        "import pandas as pd\n",
        "import numpy as np"
      ],
      "execution_count": null,
      "outputs": []
    },
    {
      "cell_type": "code",
      "metadata": {
        "id": "2PjfXSv6GNQq",
        "colab": {
          "base_uri": "https://localhost:8080/"
        },
        "outputId": "24f12f97-2acb-4b15-b7c7-e00706ba51b3"
      },
      "source": [
        "myarray = np.random.randint(0,11,size=(6,6))\n",
        "myarray.shape"
      ],
      "execution_count": null,
      "outputs": [
        {
          "output_type": "execute_result",
          "data": {
            "text/plain": [
              "(6, 6)"
            ]
          },
          "metadata": {
            "tags": []
          },
          "execution_count": 20
        }
      ]
    },
    {
      "cell_type": "code",
      "metadata": {
        "id": "c9b42t7LGVsO"
      },
      "source": [
        "rownames = [\"student1\",\"student2\",\"student3\",\"student4\",\"student5\",\"student6\"]"
      ],
      "execution_count": null,
      "outputs": []
    },
    {
      "cell_type": "code",
      "metadata": {
        "id": "0FuTGHE4GfNk"
      },
      "source": [
        "colnames = [\"course1\",\"course2\",\"course3\",\"course4\",\"course5\",\"course6\"]"
      ],
      "execution_count": null,
      "outputs": []
    },
    {
      "cell_type": "code",
      "metadata": {
        "id": "yHKpl-zHGpFi",
        "colab": {
          "base_uri": "https://localhost:8080/",
          "height": 225
        },
        "outputId": "edc8e7fb-522d-46a8-f1da-c2fbc0d6d7ed"
      },
      "source": [
        "df1 = pd.DataFrame(myarray, index=rownames, columns=colnames)\n",
        "df1"
      ],
      "execution_count": null,
      "outputs": [
        {
          "output_type": "execute_result",
          "data": {
            "text/html": [
              "<div>\n",
              "<style scoped>\n",
              "    .dataframe tbody tr th:only-of-type {\n",
              "        vertical-align: middle;\n",
              "    }\n",
              "\n",
              "    .dataframe tbody tr th {\n",
              "        vertical-align: top;\n",
              "    }\n",
              "\n",
              "    .dataframe thead th {\n",
              "        text-align: right;\n",
              "    }\n",
              "</style>\n",
              "<table border=\"1\" class=\"dataframe\">\n",
              "  <thead>\n",
              "    <tr style=\"text-align: right;\">\n",
              "      <th></th>\n",
              "      <th>course1</th>\n",
              "      <th>course2</th>\n",
              "      <th>course3</th>\n",
              "      <th>course4</th>\n",
              "      <th>course5</th>\n",
              "      <th>course6</th>\n",
              "    </tr>\n",
              "  </thead>\n",
              "  <tbody>\n",
              "    <tr>\n",
              "      <th>student1</th>\n",
              "      <td>3</td>\n",
              "      <td>5</td>\n",
              "      <td>9</td>\n",
              "      <td>8</td>\n",
              "      <td>2</td>\n",
              "      <td>10</td>\n",
              "    </tr>\n",
              "    <tr>\n",
              "      <th>student2</th>\n",
              "      <td>7</td>\n",
              "      <td>2</td>\n",
              "      <td>1</td>\n",
              "      <td>6</td>\n",
              "      <td>4</td>\n",
              "      <td>5</td>\n",
              "    </tr>\n",
              "    <tr>\n",
              "      <th>student3</th>\n",
              "      <td>1</td>\n",
              "      <td>7</td>\n",
              "      <td>6</td>\n",
              "      <td>8</td>\n",
              "      <td>5</td>\n",
              "      <td>1</td>\n",
              "    </tr>\n",
              "    <tr>\n",
              "      <th>student4</th>\n",
              "      <td>1</td>\n",
              "      <td>0</td>\n",
              "      <td>7</td>\n",
              "      <td>4</td>\n",
              "      <td>6</td>\n",
              "      <td>9</td>\n",
              "    </tr>\n",
              "    <tr>\n",
              "      <th>student5</th>\n",
              "      <td>0</td>\n",
              "      <td>6</td>\n",
              "      <td>0</td>\n",
              "      <td>5</td>\n",
              "      <td>1</td>\n",
              "      <td>3</td>\n",
              "    </tr>\n",
              "    <tr>\n",
              "      <th>student6</th>\n",
              "      <td>2</td>\n",
              "      <td>2</td>\n",
              "      <td>4</td>\n",
              "      <td>8</td>\n",
              "      <td>9</td>\n",
              "      <td>0</td>\n",
              "    </tr>\n",
              "  </tbody>\n",
              "</table>\n",
              "</div>"
            ],
            "text/plain": [
              "          course1  course2  course3  course4  course5  course6\n",
              "student1        3        5        9        8        2       10\n",
              "student2        7        2        1        6        4        5\n",
              "student3        1        7        6        8        5        1\n",
              "student4        1        0        7        4        6        9\n",
              "student5        0        6        0        5        1        3\n",
              "student6        2        2        4        8        9        0"
            ]
          },
          "metadata": {
            "tags": []
          },
          "execution_count": 23
        }
      ]
    },
    {
      "cell_type": "code",
      "metadata": {
        "id": "ApOz5DlEGyiL",
        "colab": {
          "base_uri": "https://localhost:8080/"
        },
        "outputId": "75ace559-a05c-4c2e-daf4-332177f8ed8d"
      },
      "source": [
        "type(df1)"
      ],
      "execution_count": null,
      "outputs": [
        {
          "output_type": "execute_result",
          "data": {
            "text/plain": [
              "pandas.core.frame.DataFrame"
            ]
          },
          "metadata": {
            "tags": []
          },
          "execution_count": 24
        }
      ]
    },
    {
      "cell_type": "code",
      "metadata": {
        "id": "Bqiw649BG3uN",
        "colab": {
          "base_uri": "https://localhost:8080/"
        },
        "outputId": "247be726-757c-4bfd-ead1-3fec790b5f69"
      },
      "source": [
        "type(df1[\"course1\"])"
      ],
      "execution_count": null,
      "outputs": [
        {
          "output_type": "execute_result",
          "data": {
            "text/plain": [
              "pandas.core.series.Series"
            ]
          },
          "metadata": {
            "tags": []
          },
          "execution_count": 25
        }
      ]
    },
    {
      "cell_type": "code",
      "metadata": {
        "id": "TJOyTMeRG6ph"
      },
      "source": [
        "sport = pd.Series({\"student1\":\"football\",\"student2\":\"basketball\",\"student3\":\"tennis\",\"student4\":\"football\",\"student5\":\"basketball\",\"student6\":\"football\"})"
      ],
      "execution_count": null,
      "outputs": []
    },
    {
      "cell_type": "code",
      "metadata": {
        "id": "hbzlv8otHROV"
      },
      "source": [
        "sex = pd.Series({\"student1\":\"female\",\"student2\":\"female\",\"student3\":\"male\",\"student4\":\"male\",\"student5\":\"male\",\"student6\":\"female\"})"
      ],
      "execution_count": null,
      "outputs": []
    },
    {
      "cell_type": "code",
      "metadata": {
        "id": "xlL59_P9HY14"
      },
      "source": [
        "df2 = pd.DataFrame({\"sport\": sport, \"sex\": sex})"
      ],
      "execution_count": null,
      "outputs": []
    },
    {
      "cell_type": "code",
      "metadata": {
        "id": "oY6xLDbNHizC",
        "colab": {
          "base_uri": "https://localhost:8080/",
          "height": 225
        },
        "outputId": "22c06b07-c633-42c0-cb51-2ff8926150b8"
      },
      "source": [
        "df2"
      ],
      "execution_count": null,
      "outputs": [
        {
          "output_type": "execute_result",
          "data": {
            "text/html": [
              "<div>\n",
              "<style scoped>\n",
              "    .dataframe tbody tr th:only-of-type {\n",
              "        vertical-align: middle;\n",
              "    }\n",
              "\n",
              "    .dataframe tbody tr th {\n",
              "        vertical-align: top;\n",
              "    }\n",
              "\n",
              "    .dataframe thead th {\n",
              "        text-align: right;\n",
              "    }\n",
              "</style>\n",
              "<table border=\"1\" class=\"dataframe\">\n",
              "  <thead>\n",
              "    <tr style=\"text-align: right;\">\n",
              "      <th></th>\n",
              "      <th>sport</th>\n",
              "      <th>sex</th>\n",
              "    </tr>\n",
              "  </thead>\n",
              "  <tbody>\n",
              "    <tr>\n",
              "      <th>student1</th>\n",
              "      <td>football</td>\n",
              "      <td>female</td>\n",
              "    </tr>\n",
              "    <tr>\n",
              "      <th>student2</th>\n",
              "      <td>basketball</td>\n",
              "      <td>female</td>\n",
              "    </tr>\n",
              "    <tr>\n",
              "      <th>student3</th>\n",
              "      <td>tennis</td>\n",
              "      <td>male</td>\n",
              "    </tr>\n",
              "    <tr>\n",
              "      <th>student4</th>\n",
              "      <td>football</td>\n",
              "      <td>male</td>\n",
              "    </tr>\n",
              "    <tr>\n",
              "      <th>student5</th>\n",
              "      <td>basketball</td>\n",
              "      <td>male</td>\n",
              "    </tr>\n",
              "    <tr>\n",
              "      <th>student6</th>\n",
              "      <td>football</td>\n",
              "      <td>female</td>\n",
              "    </tr>\n",
              "  </tbody>\n",
              "</table>\n",
              "</div>"
            ],
            "text/plain": [
              "               sport     sex\n",
              "student1    football  female\n",
              "student2  basketball  female\n",
              "student3      tennis    male\n",
              "student4    football    male\n",
              "student5  basketball    male\n",
              "student6    football  female"
            ]
          },
          "metadata": {
            "tags": []
          },
          "execution_count": 29
        }
      ]
    },
    {
      "cell_type": "code",
      "metadata": {
        "id": "05_LkpzXHkMe",
        "colab": {
          "base_uri": "https://localhost:8080/",
          "height": 225
        },
        "outputId": "52dd1f3a-aaaa-4cd8-dddf-d1ca5d043d2f"
      },
      "source": [
        "df = pd.merge(df1,df2,left_index=True, right_index=True)\n",
        "df"
      ],
      "execution_count": null,
      "outputs": [
        {
          "output_type": "execute_result",
          "data": {
            "text/html": [
              "<div>\n",
              "<style scoped>\n",
              "    .dataframe tbody tr th:only-of-type {\n",
              "        vertical-align: middle;\n",
              "    }\n",
              "\n",
              "    .dataframe tbody tr th {\n",
              "        vertical-align: top;\n",
              "    }\n",
              "\n",
              "    .dataframe thead th {\n",
              "        text-align: right;\n",
              "    }\n",
              "</style>\n",
              "<table border=\"1\" class=\"dataframe\">\n",
              "  <thead>\n",
              "    <tr style=\"text-align: right;\">\n",
              "      <th></th>\n",
              "      <th>course1</th>\n",
              "      <th>course2</th>\n",
              "      <th>course3</th>\n",
              "      <th>course4</th>\n",
              "      <th>course5</th>\n",
              "      <th>course6</th>\n",
              "      <th>sport</th>\n",
              "      <th>sex</th>\n",
              "    </tr>\n",
              "  </thead>\n",
              "  <tbody>\n",
              "    <tr>\n",
              "      <th>student1</th>\n",
              "      <td>3</td>\n",
              "      <td>5</td>\n",
              "      <td>9</td>\n",
              "      <td>8</td>\n",
              "      <td>2</td>\n",
              "      <td>10</td>\n",
              "      <td>football</td>\n",
              "      <td>female</td>\n",
              "    </tr>\n",
              "    <tr>\n",
              "      <th>student2</th>\n",
              "      <td>7</td>\n",
              "      <td>2</td>\n",
              "      <td>1</td>\n",
              "      <td>6</td>\n",
              "      <td>4</td>\n",
              "      <td>5</td>\n",
              "      <td>basketball</td>\n",
              "      <td>female</td>\n",
              "    </tr>\n",
              "    <tr>\n",
              "      <th>student3</th>\n",
              "      <td>1</td>\n",
              "      <td>7</td>\n",
              "      <td>6</td>\n",
              "      <td>8</td>\n",
              "      <td>5</td>\n",
              "      <td>1</td>\n",
              "      <td>tennis</td>\n",
              "      <td>male</td>\n",
              "    </tr>\n",
              "    <tr>\n",
              "      <th>student4</th>\n",
              "      <td>1</td>\n",
              "      <td>0</td>\n",
              "      <td>7</td>\n",
              "      <td>4</td>\n",
              "      <td>6</td>\n",
              "      <td>9</td>\n",
              "      <td>football</td>\n",
              "      <td>male</td>\n",
              "    </tr>\n",
              "    <tr>\n",
              "      <th>student5</th>\n",
              "      <td>0</td>\n",
              "      <td>6</td>\n",
              "      <td>0</td>\n",
              "      <td>5</td>\n",
              "      <td>1</td>\n",
              "      <td>3</td>\n",
              "      <td>basketball</td>\n",
              "      <td>male</td>\n",
              "    </tr>\n",
              "    <tr>\n",
              "      <th>student6</th>\n",
              "      <td>2</td>\n",
              "      <td>2</td>\n",
              "      <td>4</td>\n",
              "      <td>8</td>\n",
              "      <td>9</td>\n",
              "      <td>0</td>\n",
              "      <td>football</td>\n",
              "      <td>female</td>\n",
              "    </tr>\n",
              "  </tbody>\n",
              "</table>\n",
              "</div>"
            ],
            "text/plain": [
              "          course1  course2  course3  ...  course6       sport     sex\n",
              "student1        3        5        9  ...       10    football  female\n",
              "student2        7        2        1  ...        5  basketball  female\n",
              "student3        1        7        6  ...        1      tennis    male\n",
              "student4        1        0        7  ...        9    football    male\n",
              "student5        0        6        0  ...        3  basketball    male\n",
              "student6        2        2        4  ...        0    football  female\n",
              "\n",
              "[6 rows x 8 columns]"
            ]
          },
          "metadata": {
            "tags": []
          },
          "execution_count": 30
        }
      ]
    },
    {
      "cell_type": "code",
      "metadata": {
        "id": "sAdMoEgtHv-G",
        "colab": {
          "base_uri": "https://localhost:8080/"
        },
        "outputId": "8301e12e-132d-4c46-a5f7-0b9d649b2fc2"
      },
      "source": [
        "print(df[\"sport\"])"
      ],
      "execution_count": null,
      "outputs": [
        {
          "output_type": "stream",
          "text": [
            "student1      football\n",
            "student2    basketball\n",
            "student3        tennis\n",
            "student4      football\n",
            "student5    basketball\n",
            "student6      football\n",
            "Name: sport, dtype: object\n"
          ],
          "name": "stdout"
        }
      ]
    },
    {
      "cell_type": "code",
      "metadata": {
        "id": "s770LlujH1Ou",
        "colab": {
          "base_uri": "https://localhost:8080/"
        },
        "outputId": "1a272e6b-2e70-4870-e315-e1844853c744"
      },
      "source": [
        "print(df.sport)"
      ],
      "execution_count": null,
      "outputs": [
        {
          "output_type": "stream",
          "text": [
            "student1      football\n",
            "student2    basketball\n",
            "student3        tennis\n",
            "student4      football\n",
            "student5    basketball\n",
            "student6      football\n",
            "Name: sport, dtype: object\n"
          ],
          "name": "stdout"
        }
      ]
    },
    {
      "cell_type": "code",
      "metadata": {
        "id": "syycmU1PH38A",
        "colab": {
          "base_uri": "https://localhost:8080/"
        },
        "outputId": "214c852b-2de2-4a4c-fa58-c6838f90eb6e"
      },
      "source": [
        "print(df[[\"sport\"]])"
      ],
      "execution_count": null,
      "outputs": [
        {
          "output_type": "stream",
          "text": [
            "               sport\n",
            "student1    football\n",
            "student2  basketball\n",
            "student3      tennis\n",
            "student4    football\n",
            "student5  basketball\n",
            "student6    football\n"
          ],
          "name": "stdout"
        }
      ]
    },
    {
      "cell_type": "code",
      "metadata": {
        "id": "YEYC9ePhH7mb",
        "colab": {
          "base_uri": "https://localhost:8080/"
        },
        "outputId": "7e0634be-7ef1-41e3-9e98-079b6145d894"
      },
      "source": [
        "print(df.keys())"
      ],
      "execution_count": null,
      "outputs": [
        {
          "output_type": "stream",
          "text": [
            "Index(['course1', 'course2', 'course3', 'course4', 'course5', 'course6',\n",
            "       'sport', 'sex'],\n",
            "      dtype='object')\n"
          ],
          "name": "stdout"
        }
      ]
    },
    {
      "cell_type": "code",
      "metadata": {
        "id": "glFOPraTIB4o",
        "colab": {
          "base_uri": "https://localhost:8080/"
        },
        "outputId": "1c879efe-6170-41a3-87d5-f213088d64be"
      },
      "source": [
        "print(df.columns)"
      ],
      "execution_count": null,
      "outputs": [
        {
          "output_type": "stream",
          "text": [
            "Index(['course1', 'course2', 'course3', 'course4', 'course5', 'course6',\n",
            "       'sport', 'sex'],\n",
            "      dtype='object')\n"
          ],
          "name": "stdout"
        }
      ]
    },
    {
      "cell_type": "code",
      "metadata": {
        "id": "Z1WDdcMIIEap",
        "colab": {
          "base_uri": "https://localhost:8080/"
        },
        "outputId": "2c0602cb-2ab0-45e9-fb98-33b9f3b2cfd4"
      },
      "source": [
        "print(df.index)"
      ],
      "execution_count": null,
      "outputs": [
        {
          "output_type": "stream",
          "text": [
            "Index(['student1', 'student2', 'student3', 'student4', 'student5', 'student6'], dtype='object')\n"
          ],
          "name": "stdout"
        }
      ]
    },
    {
      "cell_type": "code",
      "metadata": {
        "id": "EFJywltJIHXV",
        "colab": {
          "base_uri": "https://localhost:8080/"
        },
        "outputId": "8ce38ab0-8575-4eb5-de59-67dca94bdf28"
      },
      "source": [
        "print(df.values)"
      ],
      "execution_count": null,
      "outputs": [
        {
          "output_type": "stream",
          "text": [
            "[[3 5 9 8 2 10 'football' 'female']\n",
            " [7 2 1 6 4 5 'basketball' 'female']\n",
            " [1 7 6 8 5 1 'tennis' 'male']\n",
            " [1 0 7 4 6 9 'football' 'male']\n",
            " [0 6 0 5 1 3 'basketball' 'male']\n",
            " [2 2 4 8 9 0 'football' 'female']]\n"
          ],
          "name": "stdout"
        }
      ]
    },
    {
      "cell_type": "code",
      "metadata": {
        "id": "VQVTnWp-IKmY",
        "colab": {
          "base_uri": "https://localhost:8080/"
        },
        "outputId": "ad3622cd-5261-413a-d9da-e410759da82b"
      },
      "source": [
        "print(\"course2\" in df.columns)"
      ],
      "execution_count": null,
      "outputs": [
        {
          "output_type": "stream",
          "text": [
            "True\n"
          ],
          "name": "stdout"
        }
      ]
    },
    {
      "cell_type": "code",
      "metadata": {
        "id": "JOyKtGK8IPvW",
        "colab": {
          "base_uri": "https://localhost:8080/"
        },
        "outputId": "3ec5172a-4332-4584-c98b-fd7c98731989"
      },
      "source": [
        "print(\"test\" in df.columns)"
      ],
      "execution_count": null,
      "outputs": [
        {
          "output_type": "stream",
          "text": [
            "False\n"
          ],
          "name": "stdout"
        }
      ]
    },
    {
      "cell_type": "code",
      "metadata": {
        "id": "3xj7k5oiITjI",
        "colab": {
          "base_uri": "https://localhost:8080/"
        },
        "outputId": "5ab303ba-9c6c-4296-df7e-691c7b993e3a"
      },
      "source": [
        "print(df.iloc[:3,:7])"
      ],
      "execution_count": null,
      "outputs": [
        {
          "output_type": "stream",
          "text": [
            "          course1  course2  course3  course4  course5  course6       sport\n",
            "student1        3        5        9        8        2       10    football\n",
            "student2        7        2        1        6        4        5  basketball\n",
            "student3        1        7        6        8        5        1      tennis\n"
          ],
          "name": "stdout"
        }
      ]
    },
    {
      "cell_type": "code",
      "metadata": {
        "id": "e4YQ6wxeIZxg",
        "colab": {
          "base_uri": "https://localhost:8080/"
        },
        "outputId": "62632134-95df-4d64-9a96-ce13caf8fdeb"
      },
      "source": [
        "print(df.loc[\"student1\":\"student3\",\"course1\":\"sport\"])"
      ],
      "execution_count": null,
      "outputs": [
        {
          "output_type": "stream",
          "text": [
            "          course1  course2  course3  course4  course5  course6       sport\n",
            "student1        3        5        9        8        2       10    football\n",
            "student2        7        2        1        6        4        5  basketball\n",
            "student3        1        7        6        8        5        1      tennis\n"
          ],
          "name": "stdout"
        }
      ]
    },
    {
      "cell_type": "code",
      "metadata": {
        "id": "V9VOsjgYIkKC",
        "colab": {
          "base_uri": "https://localhost:8080/"
        },
        "outputId": "428acce8-cfff-4ab5-e200-790fdc20481e"
      },
      "source": [
        "print(df.loc[df.course2>5])"
      ],
      "execution_count": null,
      "outputs": [
        {
          "output_type": "stream",
          "text": [
            "          course1  course2  course3  ...  course6       sport   sex\n",
            "student3        1        7        6  ...        1      tennis  male\n",
            "student5        0        6        0  ...        3  basketball  male\n",
            "\n",
            "[2 rows x 8 columns]\n"
          ],
          "name": "stdout"
        }
      ]
    },
    {
      "cell_type": "code",
      "metadata": {
        "id": "m0dpmfUzIxal",
        "colab": {
          "base_uri": "https://localhost:8080/"
        },
        "outputId": "1b49d379-e7f0-4816-e498-c717e417134c"
      },
      "source": [
        "print(df.sort_values([\"course1\"], ascending=True))"
      ],
      "execution_count": null,
      "outputs": [
        {
          "output_type": "stream",
          "text": [
            "          course1  course2  course3  ...  course6       sport     sex\n",
            "student5        0        6        0  ...        3  basketball    male\n",
            "student3        1        7        6  ...        1      tennis    male\n",
            "student4        1        0        7  ...        9    football    male\n",
            "student6        2        2        4  ...        0    football  female\n",
            "student1        3        5        9  ...       10    football  female\n",
            "student2        7        2        1  ...        5  basketball  female\n",
            "\n",
            "[6 rows x 8 columns]\n"
          ],
          "name": "stdout"
        }
      ]
    },
    {
      "cell_type": "code",
      "metadata": {
        "id": "7ehbx4HEI9Rx",
        "colab": {
          "base_uri": "https://localhost:8080/"
        },
        "outputId": "877fde8f-dc72-4d91-837f-4b3a8a4bc559"
      },
      "source": [
        "#get the different summary statistics \n",
        "\n",
        "print(\"maximum: \\n\", df.iloc[:,:6].max(), \"\\n_________\\n\")\n",
        "print(\"minimum: \\n\", df.iloc[:,:6].min(), \"\\n_________\\n\")\n",
        "print(\"mean: \\n\", df.iloc[:,:6].mean(), \"\\n_________\\n\")\n",
        "print(\"standard deviation : \\n\", df.iloc[:,:6].std(), \"\\n_________\\n\")"
      ],
      "execution_count": null,
      "outputs": [
        {
          "output_type": "stream",
          "text": [
            "maximum: \n",
            " course1     7\n",
            "course2     7\n",
            "course3     9\n",
            "course4     8\n",
            "course5     9\n",
            "course6    10\n",
            "dtype: int64 \n",
            "_________\n",
            "\n",
            "minimum: \n",
            " course1    0\n",
            "course2    0\n",
            "course3    0\n",
            "course4    4\n",
            "course5    1\n",
            "course6    0\n",
            "dtype: int64 \n",
            "_________\n",
            "\n",
            "mean: \n",
            " course1    2.333333\n",
            "course2    3.666667\n",
            "course3    4.500000\n",
            "course4    6.500000\n",
            "course5    4.500000\n",
            "course6    4.666667\n",
            "dtype: float64 \n",
            "_________\n",
            "\n",
            "standard deviation : \n",
            " course1    2.503331\n",
            "course2    2.732520\n",
            "course3    3.507136\n",
            "course4    1.760682\n",
            "course5    2.880972\n",
            "course6    4.131182\n",
            "dtype: float64 \n",
            "_________\n",
            "\n"
          ],
          "name": "stdout"
        }
      ]
    },
    {
      "cell_type": "code",
      "metadata": {
        "id": "qRZrJ7ToJdYL",
        "colab": {
          "base_uri": "https://localhost:8080/"
        },
        "outputId": "8df42080-097a-4708-8df3-0425852d884a"
      },
      "source": [
        "#get the frequency counts of unique values \n",
        "\n",
        "print(\"value count: \\n\", df.sex.value_counts(), \"\\n_________\\n\")"
      ],
      "execution_count": null,
      "outputs": [
        {
          "output_type": "stream",
          "text": [
            "value count: \n",
            " male      3\n",
            "female    3\n",
            "Name: sex, dtype: int64 \n",
            "_________\n",
            "\n"
          ],
          "name": "stdout"
        }
      ]
    },
    {
      "cell_type": "code",
      "metadata": {
        "id": "q_1hvRM6JtAu",
        "colab": {
          "base_uri": "https://localhost:8080/"
        },
        "outputId": "67256681-f429-4808-e741-9263a77d7f11"
      },
      "source": [
        "#describe \n",
        "\n",
        "print(df.describe())"
      ],
      "execution_count": null,
      "outputs": [
        {
          "output_type": "stream",
          "text": [
            "        course1   course2   course3   course4   course5    course6\n",
            "count  6.000000  6.000000  6.000000  6.000000  6.000000   6.000000\n",
            "mean   2.333333  3.666667  4.500000  6.500000  4.500000   4.666667\n",
            "std    2.503331  2.732520  3.507136  1.760682  2.880972   4.131182\n",
            "min    0.000000  0.000000  0.000000  4.000000  1.000000   0.000000\n",
            "25%    1.000000  2.000000  1.750000  5.250000  2.500000   1.500000\n",
            "50%    1.500000  3.500000  5.000000  7.000000  4.500000   4.000000\n",
            "75%    2.750000  5.750000  6.750000  8.000000  5.750000   8.000000\n",
            "max    7.000000  7.000000  9.000000  8.000000  9.000000  10.000000\n"
          ],
          "name": "stdout"
        }
      ]
    },
    {
      "cell_type": "code",
      "metadata": {
        "id": "wNJ3rnIlJ3GE",
        "colab": {
          "base_uri": "https://localhost:8080/",
          "height": 225
        },
        "outputId": "6fd96175-3e4d-46c2-eec5-334390d6f13e"
      },
      "source": [
        "#Replace method\n",
        "df= df.replace([0,1,2,3,4], np.nan)\n",
        "df"
      ],
      "execution_count": null,
      "outputs": [
        {
          "output_type": "execute_result",
          "data": {
            "text/html": [
              "<div>\n",
              "<style scoped>\n",
              "    .dataframe tbody tr th:only-of-type {\n",
              "        vertical-align: middle;\n",
              "    }\n",
              "\n",
              "    .dataframe tbody tr th {\n",
              "        vertical-align: top;\n",
              "    }\n",
              "\n",
              "    .dataframe thead th {\n",
              "        text-align: right;\n",
              "    }\n",
              "</style>\n",
              "<table border=\"1\" class=\"dataframe\">\n",
              "  <thead>\n",
              "    <tr style=\"text-align: right;\">\n",
              "      <th></th>\n",
              "      <th>course1</th>\n",
              "      <th>course2</th>\n",
              "      <th>course3</th>\n",
              "      <th>course4</th>\n",
              "      <th>course5</th>\n",
              "      <th>course6</th>\n",
              "      <th>sport</th>\n",
              "      <th>sex</th>\n",
              "    </tr>\n",
              "  </thead>\n",
              "  <tbody>\n",
              "    <tr>\n",
              "      <th>student1</th>\n",
              "      <td>NaN</td>\n",
              "      <td>5.0</td>\n",
              "      <td>9.0</td>\n",
              "      <td>8.0</td>\n",
              "      <td>NaN</td>\n",
              "      <td>10.0</td>\n",
              "      <td>football</td>\n",
              "      <td>female</td>\n",
              "    </tr>\n",
              "    <tr>\n",
              "      <th>student2</th>\n",
              "      <td>7.0</td>\n",
              "      <td>NaN</td>\n",
              "      <td>NaN</td>\n",
              "      <td>6.0</td>\n",
              "      <td>NaN</td>\n",
              "      <td>5.0</td>\n",
              "      <td>basketball</td>\n",
              "      <td>female</td>\n",
              "    </tr>\n",
              "    <tr>\n",
              "      <th>student3</th>\n",
              "      <td>NaN</td>\n",
              "      <td>7.0</td>\n",
              "      <td>6.0</td>\n",
              "      <td>8.0</td>\n",
              "      <td>5.0</td>\n",
              "      <td>NaN</td>\n",
              "      <td>tennis</td>\n",
              "      <td>male</td>\n",
              "    </tr>\n",
              "    <tr>\n",
              "      <th>student4</th>\n",
              "      <td>NaN</td>\n",
              "      <td>NaN</td>\n",
              "      <td>7.0</td>\n",
              "      <td>NaN</td>\n",
              "      <td>6.0</td>\n",
              "      <td>9.0</td>\n",
              "      <td>football</td>\n",
              "      <td>male</td>\n",
              "    </tr>\n",
              "    <tr>\n",
              "      <th>student5</th>\n",
              "      <td>NaN</td>\n",
              "      <td>6.0</td>\n",
              "      <td>NaN</td>\n",
              "      <td>5.0</td>\n",
              "      <td>NaN</td>\n",
              "      <td>NaN</td>\n",
              "      <td>basketball</td>\n",
              "      <td>male</td>\n",
              "    </tr>\n",
              "    <tr>\n",
              "      <th>student6</th>\n",
              "      <td>NaN</td>\n",
              "      <td>NaN</td>\n",
              "      <td>NaN</td>\n",
              "      <td>8.0</td>\n",
              "      <td>9.0</td>\n",
              "      <td>NaN</td>\n",
              "      <td>football</td>\n",
              "      <td>female</td>\n",
              "    </tr>\n",
              "  </tbody>\n",
              "</table>\n",
              "</div>"
            ],
            "text/plain": [
              "          course1  course2  course3  ...  course6       sport     sex\n",
              "student1      NaN      5.0      9.0  ...     10.0    football  female\n",
              "student2      7.0      NaN      NaN  ...      5.0  basketball  female\n",
              "student3      NaN      7.0      6.0  ...      NaN      tennis    male\n",
              "student4      NaN      NaN      7.0  ...      9.0    football    male\n",
              "student5      NaN      6.0      NaN  ...      NaN  basketball    male\n",
              "student6      NaN      NaN      NaN  ...      NaN    football  female\n",
              "\n",
              "[6 rows x 8 columns]"
            ]
          },
          "metadata": {
            "tags": []
          },
          "execution_count": 48
        }
      ]
    },
    {
      "cell_type": "code",
      "metadata": {
        "id": "PG741o_kKERj",
        "colab": {
          "base_uri": "https://localhost:8080/"
        },
        "outputId": "35f705ca-4c48-4ad6-b52e-7a26a4c22f4e"
      },
      "source": [
        "#True for null values \n",
        "print(df.isnull())"
      ],
      "execution_count": null,
      "outputs": [
        {
          "output_type": "stream",
          "text": [
            "          course1  course2  course3  course4  course5  course6  sport    sex\n",
            "student1     True    False    False    False     True    False  False  False\n",
            "student2    False     True     True    False     True    False  False  False\n",
            "student3     True    False    False    False    False     True  False  False\n",
            "student4     True     True    False     True    False    False  False  False\n",
            "student5     True    False     True    False     True     True  False  False\n",
            "student6     True     True     True    False    False     True  False  False\n"
          ],
          "name": "stdout"
        }
      ]
    },
    {
      "cell_type": "code",
      "metadata": {
        "id": "y_Y_aenmKNXN",
        "colab": {
          "base_uri": "https://localhost:8080/"
        },
        "outputId": "eaa57f8f-2e18-4187-f465-7d889572b276"
      },
      "source": [
        "#print missing values per column\n",
        "\n",
        "print(df.isnull().sum())"
      ],
      "execution_count": null,
      "outputs": [
        {
          "output_type": "stream",
          "text": [
            "course1    5\n",
            "course2    3\n",
            "course3    3\n",
            "course4    1\n",
            "course5    3\n",
            "course6    3\n",
            "sport      0\n",
            "sex        0\n",
            "dtype: int64\n"
          ],
          "name": "stdout"
        }
      ]
    },
    {
      "cell_type": "code",
      "metadata": {
        "id": "e0EZJTqoKWwu",
        "colab": {
          "base_uri": "https://localhost:8080/"
        },
        "outputId": "59145c12-29a4-4b0c-a29a-67b09089ce2e"
      },
      "source": [
        "#print total of missing values in dataframe\n",
        "\n",
        "print(df.isnull().sum().sum())"
      ],
      "execution_count": null,
      "outputs": [
        {
          "output_type": "stream",
          "text": [
            "18\n"
          ],
          "name": "stdout"
        }
      ]
    },
    {
      "cell_type": "code",
      "metadata": {
        "id": "i6evr4yAKfnu"
      },
      "source": [
        ""
      ],
      "execution_count": null,
      "outputs": []
    }
  ]
}