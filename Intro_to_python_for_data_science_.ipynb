{
  "nbformat": 4,
  "nbformat_minor": 0,
  "metadata": {
    "colab": {
      "name": "Intro to python for data science .ipynb",
      "provenance": [],
      "authorship_tag": "ABX9TyNdVej9VJMYzZibg8YrYuUh"
    },
    "kernelspec": {
      "name": "python3",
      "display_name": "Python 3"
    }
  },
  "cells": [
    {
      "cell_type": "markdown",
      "metadata": {
        "id": "Sl7YfXsYtgLB",
        "colab_type": "text"
      },
      "source": [
        "**Introduction**\n",
        "\n",
        "\n",
        "1.  Variables in python \n",
        "2.  Type of variable\n",
        "3.  operation with string variable \n",
        "4.  Boolean variable\n",
        "5.  convert type of variable\n"
      ]
    },
    {
      "cell_type": "code",
      "metadata": {
        "id": "GEtqmaji6wkn",
        "colab_type": "code",
        "colab": {
          "base_uri": "https://localhost:8080/",
          "height": 34
        },
        "outputId": "72d2ff5b-82be-4536-cdbe-31e2781f272d"
      },
      "source": [
        "# Variable in python \n",
        "\n",
        "var1 = 100\n",
        "\n",
        "var2 = 1.10\n",
        "\n",
        "# operation\n",
        "res1 = (var1 * var2) ** 2\n",
        "\n",
        "# Print out result\n",
        "print(res1)"
      ],
      "execution_count": null,
      "outputs": [
        {
          "output_type": "stream",
          "text": [
            "12100.000000000004\n"
          ],
          "name": "stdout"
        }
      ]
    },
    {
      "cell_type": "code",
      "metadata": {
        "id": "x9_8plfKG7ja",
        "colab_type": "code",
        "colab": {
          "base_uri": "https://localhost:8080/",
          "height": 50
        },
        "outputId": "a4e82b0e-64d0-4c9f-d436-8971e6c23fea"
      },
      "source": [
        "# type of variable\n",
        "\n",
        "print(type(var1))\n",
        "\n",
        "print(type(var2))\n"
      ],
      "execution_count": null,
      "outputs": [
        {
          "output_type": "stream",
          "text": [
            "<class 'int'>\n",
            "<class 'float'>\n"
          ],
          "name": "stdout"
        }
      ]
    },
    {
      "cell_type": "code",
      "metadata": {
        "id": "fvnP0gkUJhpT",
        "colab_type": "code",
        "colab": {
          "base_uri": "https://localhost:8080/",
          "height": 67
        },
        "outputId": "39694ff5-663d-433d-f5c5-89f4f3f2bbc0"
      },
      "source": [
        "# string variable and operation\n",
        "\n",
        "var3 = \"Hello\"\n",
        "var4 = \" I'm python\"\n",
        "\n",
        "print(type(var3))\n",
        "print(var3 + var4)\n",
        "print (var3 * 3)"
      ],
      "execution_count": null,
      "outputs": [
        {
          "output_type": "stream",
          "text": [
            "<class 'str'>\n",
            "Hello I'm python\n",
            "HelloHelloHello\n"
          ],
          "name": "stdout"
        }
      ]
    },
    {
      "cell_type": "code",
      "metadata": {
        "id": "-RpxiQtnMXBi",
        "colab_type": "code",
        "colab": {
          "base_uri": "https://localhost:8080/",
          "height": 84
        },
        "outputId": "1e24e942-f88f-4a59-998f-58f663bba12f"
      },
      "source": [
        "#boolean variable\n",
        "\n",
        "var5 = True #1\n",
        "var6 = False #0\n",
        "\n",
        "print(var5)\n",
        "print(var5 + var6)\n",
        "print(var5 * var6)\n",
        "print(type(var5))"
      ],
      "execution_count": null,
      "outputs": [
        {
          "output_type": "stream",
          "text": [
            "True\n",
            "1\n",
            "0\n",
            "<class 'bool'>\n"
          ],
          "name": "stdout"
        }
      ]
    },
    {
      "cell_type": "code",
      "metadata": {
        "id": "DAhxH3anMpsg",
        "colab_type": "code",
        "colab": {
          "base_uri": "https://localhost:8080/",
          "height": 67
        },
        "outputId": "e5edb83d-7db9-46f5-81be-158b02af6c30"
      },
      "source": [
        "#convert variable type\n",
        "\n",
        "# convert int to string \n",
        "name = \"Python\"\n",
        "age = 33\n",
        "\n",
        "print(\"My name is \" + name + \" and I'm \" + str(age) + \" years old\")\n",
        "\n",
        "#convert string to int \n",
        "var7 = \"100\"\n",
        "print(type(var7))\n",
        "\n",
        "var8 = int(var7)\n",
        "print(type(var8))\n"
      ],
      "execution_count": null,
      "outputs": [
        {
          "output_type": "stream",
          "text": [
            "My name is Python and I'm 33 years old\n",
            "<class 'str'>\n",
            "<class 'int'>\n"
          ],
          "name": "stdout"
        }
      ]
    },
    {
      "cell_type": "markdown",
      "metadata": {
        "id": "bsBXZHqIvWxh",
        "colab_type": "text"
      },
      "source": [
        "**List**\n",
        "\n",
        "In order to create variables one by one . it's possible to store many of them and with different data type in the list "
      ]
    },
    {
      "cell_type": "code",
      "metadata": {
        "id": "aimjA2K2sCD5",
        "colab_type": "code",
        "colab": {
          "base_uri": "https://localhost:8080/",
          "height": 50
        },
        "outputId": "4cac8416-d86e-408a-a9f9-0b41ddae4f46"
      },
      "source": [
        "# different places in city \n",
        "\n",
        "park = 10\n",
        "monument = 3\n",
        "administration = 5\n",
        "school = 7\n",
        "university = 1\n",
        "sport_Hall = 2\n",
        "\n",
        "#city \n",
        "\n",
        "city = [park, monument, school, university, sport_Hall ]\n",
        "\n",
        "print(city)\n",
        "print(type(city))"
      ],
      "execution_count": null,
      "outputs": [
        {
          "output_type": "stream",
          "text": [
            "[10, 3, 7, 1, 2]\n",
            "<class 'list'>\n"
          ],
          "name": "stdout"
        }
      ]
    },
    {
      "cell_type": "code",
      "metadata": {
        "id": "W8AdC7yJzVoA",
        "colab_type": "code",
        "colab": {
          "base_uri": "https://localhost:8080/",
          "height": 34
        },
        "outputId": "5b5640db-f645-4ccb-f5d5-78435fe7c824"
      },
      "source": [
        "#list with different data type\n",
        "\n",
        "language = \"Arabic\"\n",
        "\n",
        "near_to_sea = True\n",
        "\n",
        "temp_average = 25.5\n",
        "\n",
        "#city\n",
        "\n",
        "city = [park, monument, school, university, sport_Hall, language, near_to_sea, temp_average]\n",
        "print(city)"
      ],
      "execution_count": null,
      "outputs": [
        {
          "output_type": "stream",
          "text": [
            "[10, 3, 7, 1, 2, 'Arabic', True, 25.5]\n"
          ],
          "name": "stdout"
        }
      ]
    },
    {
      "cell_type": "code",
      "metadata": {
        "id": "UNUXxqYG2HE_",
        "colab_type": "code",
        "colab": {
          "base_uri": "https://localhost:8080/",
          "height": 84
        },
        "outputId": "5a2f6b8f-3f53-4d44-90c9-bcc5128e5758"
      },
      "source": [
        "# operation with list\n",
        "\n",
        "countryside =[\"Agriculture\",\"horses\",\"cows\" ]\n",
        "\n",
        "region = city + countryside\n",
        "\n",
        "print(region)\n",
        "\n",
        "region_1 = region + [\"mountain\", \"sea\"] \n",
        "\n",
        "print(region_1)\n",
        "\n",
        "#access to element \n",
        "\n",
        "print(city [0])\n",
        "\n",
        "#add elements\n",
        "\n",
        "print(city[0] + city[1])"
      ],
      "execution_count": null,
      "outputs": [
        {
          "output_type": "stream",
          "text": [
            "[10, 3, 7, 1, 2, 'Arabic', True, 25.5, 'Agriculture', 'horses', 'cows']\n",
            "[10, 3, 7, 1, 2, 'Arabic', True, 25.5, 'Agriculture', 'horses', 'cows', 'mountain', 'sea']\n",
            "10\n",
            "13\n"
          ],
          "name": "stdout"
        }
      ]
    },
    {
      "cell_type": "code",
      "metadata": {
        "id": "FWGTDc_G0oKg",
        "colab_type": "code",
        "colab": {}
      },
      "source": [
        "#delet element form list\n",
        "\n",
        "#del(city[0])\n",
        "#print(city)\n",
        "\n",
        "#del(city[-1])\n",
        "#print(city)\n",
        "\n",
        "#element 3 not included \n",
        "#del(city[0:3])\n",
        "#print(city)"
      ],
      "execution_count": null,
      "outputs": []
    },
    {
      "cell_type": "code",
      "metadata": {
        "id": "vP3quQiv3-Z_",
        "colab_type": "code",
        "colab": {
          "base_uri": "https://localhost:8080/",
          "height": 50
        },
        "outputId": "8e74e03d-3729-48e6-ec47-77d483b69248"
      },
      "source": [
        "#create a copy of list , in order to keep the original one safe without modification\n",
        "#replace value of the first element of copy_city\n",
        "\n",
        "copy_city = list(city)\n",
        "\n",
        "copy_city[0] = 30\n",
        "\n",
        "print(city)\n",
        "print(copy_city)"
      ],
      "execution_count": null,
      "outputs": [
        {
          "output_type": "stream",
          "text": [
            "[10, 3, 7, 1, 2, 'Arabic', True, 25.5]\n",
            "[30, 3, 7, 1, 2, 'Arabic', True, 25.5]\n"
          ],
          "name": "stdout"
        }
      ]
    },
    {
      "cell_type": "code",
      "metadata": {
        "id": "6V87Mpxd5ZT3",
        "colab_type": "code",
        "colab": {
          "base_uri": "https://localhost:8080/",
          "height": 67
        },
        "outputId": "9be04f53-ee4d-44f1-9214-3764d1beae50"
      },
      "source": [
        "#create list of list\n",
        "\n",
        "Parc = [[\"Green\", 2],[\"Aqua\",3] ,[\"Zoo\",1]]\n",
        "\n",
        "print(Parc)\n",
        "\n",
        "print(Parc[0])\n",
        "print(Parc[0][1])"
      ],
      "execution_count": null,
      "outputs": [
        {
          "output_type": "stream",
          "text": [
            "[['Green', 2], ['Aqua', 3], ['Zoo', 1]]\n",
            "['Green', 2]\n",
            "2\n"
          ],
          "name": "stdout"
        }
      ]
    },
    {
      "cell_type": "code",
      "metadata": {
        "id": "P_eFME9M67fn",
        "colab_type": "code",
        "colab": {
          "base_uri": "https://localhost:8080/",
          "height": 67
        },
        "outputId": "6fc5f683-f17f-4eae-9e4b-76628baacb28"
      },
      "source": [
        "#slicing \n",
        "\n",
        "print(region)\n",
        "city = region[:8]\n",
        "countryside = region[-3:]\n",
        "print(city)\n",
        "print(countryside)"
      ],
      "execution_count": null,
      "outputs": [
        {
          "output_type": "stream",
          "text": [
            "[10, 3, 7, 1, 2, 'Arabic', True, 25.5, 'Agriculture', 'horses', 'cows']\n",
            "[10, 3, 7, 1, 2, 'Arabic', True, 25.5]\n",
            "['Agriculture', 'horses', 'cows']\n"
          ],
          "name": "stdout"
        }
      ]
    },
    {
      "cell_type": "code",
      "metadata": {
        "id": "RuOvkkfFLakj",
        "colab_type": "code",
        "colab": {}
      },
      "source": [
        ""
      ],
      "execution_count": null,
      "outputs": []
    }
  ]
}