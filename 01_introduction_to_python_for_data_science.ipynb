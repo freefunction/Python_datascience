{
  "nbformat": 4,
  "nbformat_minor": 0,
  "metadata": {
    "colab": {
      "name": "01. introduction to python for data science.ipynb",
      "provenance": [],
      "authorship_tag": "ABX9TyOOhbo4hHP3lxBg0Y+1nAVT",
      "include_colab_link": true
    },
    "kernelspec": {
      "name": "python3",
      "display_name": "Python 3"
    }
  },
  "cells": [
    {
      "cell_type": "markdown",
      "metadata": {
        "id": "view-in-github",
        "colab_type": "text"
      },
      "source": [
        "<a href=\"https://colab.research.google.com/github/freefunction/Python_draft/blob/master/01_introduction_to_python_for_data_science.ipynb\" target=\"_parent\"><img src=\"https://colab.research.google.com/assets/colab-badge.svg\" alt=\"Open In Colab\"/></a>"
      ]
    },
    {
      "cell_type": "code",
      "metadata": {
        "id": "YsblubMPU7H7",
        "outputId": "2d620eb8-20d7-4e2c-ee11-f66ddd63652a",
        "colab": {
          "base_uri": "https://localhost:8080/",
          "height": 67
        }
      },
      "source": [
        "#Variables\n",
        "\n",
        "v1 = 100\n",
        "v2 = 1.2\n",
        "\n",
        "v3 = \"Hello\"\n",
        "\n",
        "print(type(v1))\n",
        "print(type(v2))\n",
        "print(type(v3))"
      ],
      "execution_count": null,
      "outputs": [
        {
          "output_type": "stream",
          "text": [
            "<class 'int'>\n",
            "<class 'float'>\n",
            "<class 'str'>\n"
          ],
          "name": "stdout"
        }
      ]
    },
    {
      "cell_type": "code",
      "metadata": {
        "id": "-VLT481-YQgT",
        "outputId": "2dfdad55-35e0-411a-b20b-d570d7358bcf",
        "colab": {
          "base_uri": "https://localhost:8080/",
          "height": 34
        }
      },
      "source": [
        "#Operation\n",
        "\n",
        "r1 = v1 + v2\n",
        "\n",
        "r2 = v1 * v2\n",
        "\n",
        "r3 = v3 +v3\n",
        "\n",
        "print(r3)"
      ],
      "execution_count": null,
      "outputs": [
        {
          "output_type": "stream",
          "text": [
            "HelloHello\n"
          ],
          "name": "stdout"
        }
      ]
    },
    {
      "cell_type": "code",
      "metadata": {
        "id": "SrX-prMUY-VC",
        "outputId": "ed698520-a46e-49aa-a0ee-97669230970d",
        "colab": {
          "base_uri": "https://localhost:8080/",
          "height": 67
        }
      },
      "source": [
        "#Boolean\n",
        "\n",
        "v4 = True  #1\n",
        "v5 = False #0\n",
        "\n",
        "print(type(v4))\n",
        "\n",
        "r4 = v4 + v5\n",
        "r5 = v4 * v5\n",
        "\n",
        "print(r4)\n",
        "print(r5)"
      ],
      "execution_count": null,
      "outputs": [
        {
          "output_type": "stream",
          "text": [
            "<class 'bool'>\n",
            "1\n",
            "0\n"
          ],
          "name": "stdout"
        }
      ]
    },
    {
      "cell_type": "code",
      "metadata": {
        "id": "45WNdQITaS03",
        "outputId": "f4ee136a-e361-4478-cda9-07d91c8afc90",
        "colab": {
          "base_uri": "https://localhost:8080/",
          "height": 118
        }
      },
      "source": [
        "#convert data type\n",
        "\n",
        "print(v1)\n",
        "print(v2)\n",
        "print(v3)\n",
        "\n",
        "print(str(v2) + v3)\n",
        "\n",
        "print(int(v2))\n",
        "print(float(v1))"
      ],
      "execution_count": null,
      "outputs": [
        {
          "output_type": "stream",
          "text": [
            "100\n",
            "1.2\n",
            "Hello\n",
            "1.2Hello\n",
            "1\n",
            "100.0\n"
          ],
          "name": "stdout"
        }
      ]
    },
    {
      "cell_type": "code",
      "metadata": {
        "id": "DH50GaJUbmMW",
        "outputId": "94ac0409-845f-42c3-dbf8-eb1a60005a27",
        "colab": {
          "base_uri": "https://localhost:8080/",
          "height": 34
        }
      },
      "source": [
        "#variables that describe a city\n",
        "\n",
        "park = 10 # int\n",
        "temp_average = 25.5 #float\n",
        "language = \"english\" #str\n",
        "near_to_sea = True #bool\n",
        "\n",
        "#List\n",
        "\n",
        "city = [park, temp_average,language, near_to_sea]\n",
        "print(city)"
      ],
      "execution_count": null,
      "outputs": [
        {
          "output_type": "stream",
          "text": [
            "[10, 25.5, 'english', True]\n"
          ],
          "name": "stdout"
        }
      ]
    },
    {
      "cell_type": "code",
      "metadata": {
        "id": "HT5naTZvfd92",
        "outputId": "c40658ae-39a8-4aa1-bc23-89d77cdd9beb",
        "colab": {
          "base_uri": "https://localhost:8080/",
          "height": 118
        }
      },
      "source": [
        "#operation with a list\n",
        "\n",
        "city2 =[2,30.5,\"french\", False]\n",
        "\n",
        "region = city + city2\n",
        "\n",
        "print(region)\n",
        "\n",
        "#access to elements from the list\n",
        "\n",
        "print(region[-2])\n",
        "\n",
        "print(region [1:3])\n",
        "\n",
        "#add element\n",
        "\n",
        "park = region[0] + region[4]\n",
        "print(park)\n",
        "\n",
        "#delete elements\n",
        "\n",
        "del(region[0])\n",
        "print(region)\n",
        "\n",
        "del(region[:2])\n",
        "print(region)"
      ],
      "execution_count": null,
      "outputs": [
        {
          "output_type": "stream",
          "text": [
            "[10, 25.5, 'english', True, 2, 30.5, 'french', False]\n",
            "french\n",
            "[25.5, 'english']\n",
            "12\n",
            "[25.5, 'english', True, 2, 30.5, 'french', False]\n",
            "[True, 2, 30.5, 'french', False]\n"
          ],
          "name": "stdout"
        }
      ]
    },
    {
      "cell_type": "code",
      "metadata": {
        "id": "ZiOQIVSEk8Fu",
        "outputId": "4004ae68-6a87-43d5-b10e-65b3d503e1fa",
        "colab": {
          "base_uri": "https://localhost:8080/",
          "height": 50
        }
      },
      "source": [
        "#create a copy of list\n",
        "\n",
        "copy_city = list(city)\n",
        "\n",
        "copy_city[0]= 13\n",
        "\n",
        "print(city)\n",
        "print(copy_city)"
      ],
      "execution_count": null,
      "outputs": [
        {
          "output_type": "stream",
          "text": [
            "[10, 25.5, 'english', True]\n",
            "[13, 25.5, 'english', True]\n"
          ],
          "name": "stdout"
        }
      ]
    },
    {
      "cell_type": "code",
      "metadata": {
        "id": "4g1xzjc0lgnk",
        "outputId": "ba2daaab-8c54-408c-cb4a-96a72118f18e",
        "colab": {
          "base_uri": "https://localhost:8080/",
          "height": 84
        }
      },
      "source": [
        "#create list of liste\n",
        "\n",
        "city3 = [city, city2]\n",
        "print(city3)\n",
        "print(type(city3))\n",
        "\n",
        "#access to list of list\n",
        "\n",
        "print(city3[0])\n",
        "print(city3[1][0])"
      ],
      "execution_count": null,
      "outputs": [
        {
          "output_type": "stream",
          "text": [
            "[[10, 25.5, 'english', True], [2, 30.5, 'french', False]]\n",
            "<class 'list'>\n",
            "[10, 25.5, 'english', True]\n",
            "2\n"
          ],
          "name": "stdout"
        }
      ]
    }
  ]
}