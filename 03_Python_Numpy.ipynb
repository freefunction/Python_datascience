{
  "nbformat": 4,
  "nbformat_minor": 0,
  "metadata": {
    "colab": {
      "name": "03_Python: Numpy.ipynb",
      "provenance": [],
      "authorship_tag": "ABX9TyONa0ZU2uqHi8Kc5XLhuKHQ",
      "include_colab_link": true
    },
    "kernelspec": {
      "name": "python3",
      "display_name": "Python 3"
    }
  },
  "cells": [
    {
      "cell_type": "markdown",
      "metadata": {
        "id": "view-in-github",
        "colab_type": "text"
      },
      "source": [
        "<a href=\"https://colab.research.google.com/github/freefunction/Python_datascience/blob/master/03_Python_Numpy.ipynb\" target=\"_parent\"><img src=\"https://colab.research.google.com/assets/colab-badge.svg\" alt=\"Open In Colab\"/></a>"
      ]
    },
    {
      "cell_type": "code",
      "metadata": {
        "id": "Fu6o7tuMH73x"
      },
      "source": [
        "#Create a list of covid19 cases \n",
        "\n",
        "covid_cases = [200,250,350,450,600,900,1300]"
      ],
      "execution_count": null,
      "outputs": []
    },
    {
      "cell_type": "code",
      "metadata": {
        "id": "VGqGJ2lhJ6Js"
      },
      "source": [
        "#import numpy package as np\n",
        "\n",
        "import numpy as np"
      ],
      "execution_count": null,
      "outputs": []
    },
    {
      "cell_type": "code",
      "metadata": {
        "id": "bQ8PzhXnKBCG",
        "outputId": "ca1b5e2b-331f-4923-8334-b70fcaa884ac",
        "colab": {
          "base_uri": "https://localhost:8080/"
        }
      },
      "source": [
        "#create and print out a numpy array from covid list\n",
        "\n",
        "np_covid_cases = np.array(covid_cases)\n",
        "print(np_covid_cases)"
      ],
      "execution_count": null,
      "outputs": [
        {
          "output_type": "stream",
          "text": [
            "[ 200  250  350  450  600  900 1300]\n"
          ],
          "name": "stdout"
        }
      ]
    },
    {
      "cell_type": "code",
      "metadata": {
        "id": "mdakh9hpKQ2B",
        "outputId": "e335e56d-97aa-4e3e-da9f-036fe6c565c4",
        "colab": {
          "base_uri": "https://localhost:8080/"
        }
      },
      "source": [
        "#print out the type of np_covid_cases\n",
        "\n",
        "print(type(np_covid_cases))"
      ],
      "execution_count": null,
      "outputs": [
        {
          "output_type": "stream",
          "text": [
            "<class 'numpy.ndarray'>\n"
          ],
          "name": "stdout"
        }
      ]
    },
    {
      "cell_type": "code",
      "metadata": {
        "id": "NPpbtFSHKaMp",
        "outputId": "91b52ada-000f-4ac2-da8a-c3c7ccfe4e40",
        "colab": {
          "base_uri": "https://localhost:8080/"
        }
      },
      "source": [
        "#convert the covid19 cases to cases per population \n",
        "\n",
        "print(np_covid_cases /100_000)"
      ],
      "execution_count": null,
      "outputs": [
        {
          "output_type": "stream",
          "text": [
            "[0.002  0.0025 0.0035 0.0045 0.006  0.009  0.013 ]\n"
          ],
          "name": "stdout"
        }
      ]
    },
    {
      "cell_type": "code",
      "metadata": {
        "id": "2DHJdvuKKpRm",
        "outputId": "44b67b28-288f-4adc-b5ab-375343bfaff3",
        "colab": {
          "base_uri": "https://localhost:8080/"
        }
      },
      "source": [
        "#convert the covid cases to cases per population using the list \n",
        "\n",
        "list_cases_per_pop =[]\n",
        "for x in covid_cases:\n",
        "  list_cases_per_pop.append(x/100_000)\n",
        "print(list_cases_per_pop)"
      ],
      "execution_count": null,
      "outputs": [
        {
          "output_type": "stream",
          "text": [
            "[0.002, 0.0025, 0.0035, 0.0045, 0.006, 0.009, 0.013]\n"
          ],
          "name": "stdout"
        }
      ]
    },
    {
      "cell_type": "code",
      "metadata": {
        "id": "vlYKlc8ZLCYT",
        "outputId": "b15961a6-0a16-41c4-a4c3-1eda0c669b18",
        "colab": {
          "base_uri": "https://localhost:8080/"
        }
      },
      "source": [
        "#print out the first 4 days : index from 0 to 4 excluded \n",
        "\n",
        "print(np_covid_cases[0:4])"
      ],
      "execution_count": null,
      "outputs": [
        {
          "output_type": "stream",
          "text": [
            "[200 250 350 450]\n"
          ],
          "name": "stdout"
        }
      ]
    },
    {
      "cell_type": "code",
      "metadata": {
        "id": "ez1WaOfhLPmU",
        "outputId": "e97e6927-56fc-4188-a466-2a7e306d8374",
        "colab": {
          "base_uri": "https://localhost:8080/"
        }
      },
      "source": [
        "#print out the first 4 days with step of 2\n",
        "\n",
        "print(np_covid_cases[0:4:2])"
      ],
      "execution_count": null,
      "outputs": [
        {
          "output_type": "stream",
          "text": [
            "[200 350]\n"
          ],
          "name": "stdout"
        }
      ]
    },
    {
      "cell_type": "code",
      "metadata": {
        "id": "1cUUr9B3LZXR",
        "outputId": "0e48164b-fdf9-4045-bd56-f618b91c4a00",
        "colab": {
          "base_uri": "https://localhost:8080/"
        }
      },
      "source": [
        "#print out if the cases exceed 250\n",
        "\n",
        "print(np_covid_cases > 250)"
      ],
      "execution_count": null,
      "outputs": [
        {
          "output_type": "stream",
          "text": [
            "[False False  True  True  True  True  True]\n"
          ],
          "name": "stdout"
        }
      ]
    },
    {
      "cell_type": "code",
      "metadata": {
        "id": "oOVJC-sRLsXB",
        "outputId": "911c69cb-e2bb-41dd-f049-b306b5e6e11c",
        "colab": {
          "base_uri": "https://localhost:8080/"
        }
      },
      "source": [
        "#print out the values that exceed 250\n",
        "\n",
        "print(np_covid_cases[np_covid_cases > 250])"
      ],
      "execution_count": null,
      "outputs": [
        {
          "output_type": "stream",
          "text": [
            "[ 350  450  600  900 1300]\n"
          ],
          "name": "stdout"
        }
      ]
    },
    {
      "cell_type": "code",
      "metadata": {
        "id": "ZNMJAgCFL3Fd"
      },
      "source": [
        "#create covid list of lists \n",
        "\n",
        "covid= [[200,2],[250,3],[350,3],[450,4],[600,5],[900,7],[1300,11]]"
      ],
      "execution_count": null,
      "outputs": []
    },
    {
      "cell_type": "code",
      "metadata": {
        "id": "0LEg6tp_MYqU",
        "outputId": "0ee8df33-179a-468a-905b-109c41ba2727",
        "colab": {
          "base_uri": "https://localhost:8080/"
        }
      },
      "source": [
        "#create and print out 2D numpy array\n",
        "\n",
        "np_covid = np.array(covid)\n",
        "print(covid)\n",
        "print(np_covid)"
      ],
      "execution_count": null,
      "outputs": [
        {
          "output_type": "stream",
          "text": [
            "[[200, 2], [250, 3], [350, 3], [450, 4], [600, 5], [900, 7], [1300, 11]]\n",
            "[[ 200    2]\n",
            " [ 250    3]\n",
            " [ 350    3]\n",
            " [ 450    4]\n",
            " [ 600    5]\n",
            " [ 900    7]\n",
            " [1300   11]]\n"
          ],
          "name": "stdout"
        }
      ]
    },
    {
      "cell_type": "code",
      "metadata": {
        "id": "lgHm8MAMMh4o",
        "outputId": "ce7ae2f4-c11f-4707-c621-3103fe2d2553",
        "colab": {
          "base_uri": "https://localhost:8080/"
        }
      },
      "source": [
        "#print out the dimension and shape of np_covid\n",
        "\n",
        "print(np_covid.ndim)\n",
        "print(np_covid.shape)"
      ],
      "execution_count": null,
      "outputs": [
        {
          "output_type": "stream",
          "text": [
            "2\n",
            "(7, 2)\n"
          ],
          "name": "stdout"
        }
      ]
    },
    {
      "cell_type": "code",
      "metadata": {
        "id": "NJvEIJ4NMzTW",
        "outputId": "aa32b328-72ed-4431-b683-9fffddd51dc8",
        "colab": {
          "base_uri": "https://localhost:8080/"
        }
      },
      "source": [
        "#print out the covid cases and death of the first 4 days \n",
        "\n",
        "print(np_covid[0:4,:])"
      ],
      "execution_count": null,
      "outputs": [
        {
          "output_type": "stream",
          "text": [
            "[[200   2]\n",
            " [250   3]\n",
            " [350   3]\n",
            " [450   4]]\n"
          ],
          "name": "stdout"
        }
      ]
    },
    {
      "cell_type": "code",
      "metadata": {
        "id": "3leH6IbnM_VZ",
        "outputId": "57b1b29d-cac7-45e4-b569-9cdac4fb0a6f",
        "colab": {
          "base_uri": "https://localhost:8080/"
        }
      },
      "source": [
        "#print out only the covid cases of the 2 last days \n",
        "\n",
        "print(np_covid[-2:,0])"
      ],
      "execution_count": null,
      "outputs": [
        {
          "output_type": "stream",
          "text": [
            "[ 900 1300]\n"
          ],
          "name": "stdout"
        }
      ]
    },
    {
      "cell_type": "code",
      "metadata": {
        "id": "Y1ZXJjS_NKem",
        "outputId": "764d6aeb-bb23-4a3a-f22d-1e0b5699853a",
        "colab": {
          "base_uri": "https://localhost:8080/"
        }
      },
      "source": [
        "#print out the covid cases +100 and the covid deaths +10 using the broadcasting \n",
        "\n",
        "print(np_covid + np.array([100,10]))"
      ],
      "execution_count": null,
      "outputs": [
        {
          "output_type": "stream",
          "text": [
            "[[ 300   12]\n",
            " [ 350   13]\n",
            " [ 450   13]\n",
            " [ 550   14]\n",
            " [ 700   15]\n",
            " [1000   17]\n",
            " [1400   21]]\n"
          ],
          "name": "stdout"
        }
      ]
    },
    {
      "cell_type": "code",
      "metadata": {
        "id": "_KDNQrlvNbmc",
        "outputId": "4d9480ac-e7fc-4533-ca55-7be02e89fb2d",
        "colab": {
          "base_uri": "https://localhost:8080/"
        }
      },
      "source": [
        "#calculate the mean or the average \n",
        "\n",
        "print(\"average of covid cases: \"+ str(np_covid[:,0].mean()))\n",
        "print(\"average of covid deaths: \"+ str(np_covid[:,1].mean()))"
      ],
      "execution_count": null,
      "outputs": [
        {
          "output_type": "stream",
          "text": [
            "average of covid cases: 578.5714285714286\n",
            "average of covid deaths: 5.0\n"
          ],
          "name": "stdout"
        }
      ]
    },
    {
      "cell_type": "code",
      "metadata": {
        "id": "H-RXcdpaNz5E",
        "outputId": "10b69cf5-3b2e-4a50-af9f-633a9698427b",
        "colab": {
          "base_uri": "https://localhost:8080/"
        }
      },
      "source": [
        "#calculate the standard deviation \n",
        "\n",
        "print(\"std of covid cases: \"+ str(np_covid[:,0].std()))\n",
        "print(\"std of covid deaths: \"+ str(np_covid[:,1].std()))"
      ],
      "execution_count": null,
      "outputs": [
        {
          "output_type": "stream",
          "text": [
            "std of covid cases: 367.2845752052126\n",
            "std of covid deaths: 2.878491668515698\n"
          ],
          "name": "stdout"
        }
      ]
    },
    {
      "cell_type": "code",
      "metadata": {
        "id": "PzyGVZe5N9f8",
        "outputId": "647cd67c-c636-4598-d017-5b76981a1dc3",
        "colab": {
          "base_uri": "https://localhost:8080/"
        }
      },
      "source": [
        "#calculate the correlation between the covid cases and covid deaths\n",
        "\n",
        "print(\"correlation: \\n\" + str(np.corrcoef(np_covid[:,0], np_covid[:,1])))"
      ],
      "execution_count": null,
      "outputs": [
        {
          "output_type": "stream",
          "text": [
            "correlation: \n",
            "[[1.         0.99316552]\n",
            " [0.99316552 1.        ]]\n"
          ],
          "name": "stdout"
        }
      ]
    },
    {
      "cell_type": "code",
      "metadata": {
        "id": "So9KYmChOWt_"
      },
      "source": [
        ""
      ],
      "execution_count": null,
      "outputs": []
    }
  ]
}